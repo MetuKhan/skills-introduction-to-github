{
 "cells": [
  {
   "cell_type": "code",
   "execution_count": 1,
   "id": "0724f8ee-a560-43c3-a0be-878db0315c12",
   "metadata": {},
   "outputs": [],
   "source": [
    "######################################################################\n",
    "import numpy as np\n",
    "import pandas as pd\n",
    "import time\n",
    "import matplotlib.pyplot as plt\n",
    "from scipy.sparse import csc_matrix, find\n",
    "from itertools import combinations\n",
    "import copy\n",
    "from sklearn.metrics import accuracy_score\n",
    "from collections import Counter"
   ]
  },
  {
   "cell_type": "code",
   "execution_count": 2,
   "id": "3e30646b-7fda-445b-b0a5-4d18a5e690b6",
   "metadata": {},
   "outputs": [],
   "source": [
    "### Homework 1. ISYE 6740\n",
    "\n",
    "# Ensure you are not using an absolute path. use a relative data path.\n",
    "# As long as your code is run in a place where a 'data' folder exists, with a 'file.csv' file inside, you'll have no trouble.\n",
    "\n",
    "## Image compression using clustering.\n"
   ]
  },
  {
   "cell_type": "code",
   "execution_count": 3,
   "id": "2fabd8b7-a80b-4964-845a-e2a3a210858c",
   "metadata": {},
   "outputs": [],
   "source": [
    "## Input pixels\n",
    "\n",
    "#input k - the desired number of clusters"
   ]
  },
  {
   "cell_type": "code",
   "execution_count": 4,
   "id": "0d20fc3b-9d34-4585-8fb8-fd1aea6c1388",
   "metadata": {},
   "outputs": [
    {
     "name": "stderr",
     "output_type": "stream",
     "text": [
      "C:\\Users\\mughees.khan\\AppData\\Local\\Temp\\ipykernel_22236\\3807516818.py:6: DeprecationWarning: Starting with ImageIO v3 the behavior of this function will switch to that of iio.v3.imread. To keep the current behavior (and make this warning disappear) use `import imageio.v2 as imageio` or call `imageio.v2.imread` directly.\n",
      "  img_coastalabstract = iio.imread(\"coastal-abstract.jpeg\")\n"
     ]
    }
   ],
   "source": [
    "# Python program to read an write an image\n",
    " \n",
    "import imageio as iio\n",
    " \n",
    "# read an image \n",
    "img_coastalabstract = iio.imread(\"coastal-abstract.jpeg\") "
   ]
  },
  {
   "cell_type": "code",
   "execution_count": 5,
   "id": "664ff363-757d-403c-9faf-e3196db5b419",
   "metadata": {},
   "outputs": [
    {
     "data": {
      "text/plain": [
       "numpy.ndarray"
      ]
     },
     "execution_count": 5,
     "metadata": {},
     "output_type": "execute_result"
    }
   ],
   "source": [
    "#check structure of data\n",
    "type(img_coastalabstract)"
   ]
  },
  {
   "cell_type": "code",
   "execution_count": 6,
   "id": "613dd57e-d65d-4963-9134-5114e4635ed7",
   "metadata": {},
   "outputs": [
    {
     "data": {
      "text/plain": [
       "'[[[197  98  67]\\n  [199 100  69]\\n  [203 106  73]\\n  ...\\n  [150  71  64]\\n  [151  67  57]\\n  [147  59  47]]\\n\\n [[198 105  72]\\n  [209 116  82]\\n  [219 129  94]\\n  ...\\n  [153 117 105]\\n  [155 113  99]\\n  [159 113  98]]\\n\\n [[219 140 101]\\n  [226 147 108]\\n  [233 154 113]\\n  ...\\n  [143 157 144]\\n  [154 165 151]\\n  [167 173 159]]\\n\\n ...\\n\\n [[186 133  55]\\n  [170 117  37]\\n  [180 130  45]\\n  ...\\n  [ 64  38  21]\\n  [ 71  46  24]\\n  [ 80  55  33]]\\n\\n [[166 112  38]\\n  [142  89  11]\\n  [153 101  18]\\n  ...\\n  [ 58  30   8]\\n  [ 58  31   4]\\n  [ 64  37   8]]\\n\\n [[139  83   9]\\n  [114  58   0]\\n  [128  73   0]\\n  ...\\n  [ 74  44  20]\\n  [ 97  67  39]\\n  [120  89  58]]]'"
      ]
     },
     "execution_count": 6,
     "metadata": {},
     "output_type": "execute_result"
    }
   ],
   "source": [
    "str(img_coastalabstract)"
   ]
  },
  {
   "cell_type": "code",
   "execution_count": 7,
   "id": "ef0b2b06-54c3-4946-9528-3d5df61ceb83",
   "metadata": {},
   "outputs": [],
   "source": [
    "## Data consists of an array - one row is a data point (pixel), 3 columns RGB, values 0 to 255"
   ]
  },
  {
   "cell_type": "code",
   "execution_count": 8,
   "id": "09556cfc-6c26-43c1-8e28-02fd2e6b3703",
   "metadata": {},
   "outputs": [
    {
     "data": {
      "text/plain": [
       "array([[[197,  98,  67],\n",
       "        [199, 100,  69],\n",
       "        [203, 106,  73],\n",
       "        ...,\n",
       "        [150,  71,  64],\n",
       "        [151,  67,  57],\n",
       "        [147,  59,  47]],\n",
       "\n",
       "       [[198, 105,  72],\n",
       "        [209, 116,  82],\n",
       "        [219, 129,  94],\n",
       "        ...,\n",
       "        [153, 117, 105],\n",
       "        [155, 113,  99],\n",
       "        [159, 113,  98]],\n",
       "\n",
       "       [[219, 140, 101],\n",
       "        [226, 147, 108],\n",
       "        [233, 154, 113],\n",
       "        ...,\n",
       "        [143, 157, 144],\n",
       "        [154, 165, 151],\n",
       "        [167, 173, 159]],\n",
       "\n",
       "       ...,\n",
       "\n",
       "       [[186, 133,  55],\n",
       "        [170, 117,  37],\n",
       "        [180, 130,  45],\n",
       "        ...,\n",
       "        [ 64,  38,  21],\n",
       "        [ 71,  46,  24],\n",
       "        [ 80,  55,  33]],\n",
       "\n",
       "       [[166, 112,  38],\n",
       "        [142,  89,  11],\n",
       "        [153, 101,  18],\n",
       "        ...,\n",
       "        [ 58,  30,   8],\n",
       "        [ 58,  31,   4],\n",
       "        [ 64,  37,   8]],\n",
       "\n",
       "       [[139,  83,   9],\n",
       "        [114,  58,   0],\n",
       "        [128,  73,   0],\n",
       "        ...,\n",
       "        [ 74,  44,  20],\n",
       "        [ 97,  67,  39],\n",
       "        [120,  89,  58]]], dtype=uint8)"
      ]
     },
     "execution_count": 8,
     "metadata": {},
     "output_type": "execute_result"
    }
   ],
   "source": [
    "img_coastalabstract"
   ]
  },
  {
   "cell_type": "code",
   "execution_count": 9,
   "id": "31e85c8f-137c-47a6-bba5-db3c4e765d5f",
   "metadata": {},
   "outputs": [],
   "source": [
    "\n",
    "# implement on img_coastalabstract\n",
    "pixels = img_coastalabstract\n",
    " \n",
    "# Convert to 2D array (flattened)\n",
    "pixels_2d_coastalabstract = pixels.reshape(-1, 3)\n",
    "\n",
    "def initialize_centroids(pixels, k):\n",
    "    \"\"\"Randomly initializes k centroids from the dataset.\"\"\"\n",
    "    np.random.seed(123)  \n",
    "    indices = np.random.choice(pixels.shape[0], k, replace=False)\n",
    "    return pixels[indices]\n",
    "\n",
    "def assign_clusters(pixels, centroids):\n",
    "    \"\"\"Assigns each pixel to the nearest centroid using squared l2 norm.\"\"\"\n",
    "    distances = np.sum((pixels[:, np.newaxis] - centroids) ** 2, axis=2)\n",
    "    return np.argmin(distances, axis=1)\n",
    "\n",
    "#squared l-2 norm\n",
    "def update_centroids(pixels, labels, k):\n",
    "    \"\"\"Updates the centroids as the mean of the assigned points.\"\"\"\n",
    "    new_centroids = np.array([pixels[labels == i].mean(axis=0) for i in range(k)])\n",
    "    return new_centroids\n",
    "\n",
    "def k_means(pixels, k, max_iters = 1000):\n",
    "    \"\"\"Performs k-means clustering and returns labels, number of iterations, and time taken.\"\"\"\n",
    "    centroids = initialize_centroids(pixels, k)\n",
    "    start_time = time.time()\n",
    "    \n",
    "    for i in range(max_iters):\n",
    "        labels = assign_clusters(pixels, centroids)\n",
    "        new_centroids = update_centroids(pixels, labels, k)\n",
    "        \n",
    "        if np.all(centroids == new_centroids):\n",
    "            break\n",
    "        \n",
    "        centroids = new_centroids\n",
    "    \n",
    "    elapsed_time = time.time() - start_time\n",
    "    return labels.reshape(-1, 1), i + 1, elapsed_time\n",
    "\n",
    " "
   ]
  },
  {
   "cell_type": "code",
   "execution_count": 10,
   "id": "c8876e42-a8d0-435e-9514-b2847a79e177",
   "metadata": {},
   "outputs": [
    {
     "name": "stdout",
     "output_type": "stream",
     "text": [
      "Labels for k=2:\n",
      "(array([[1],\n",
      "       [1],\n",
      "       [1],\n",
      "       ...,\n",
      "       [0],\n",
      "       [0],\n",
      "       [0]], dtype=int64), 12, 0.12462830543518066)\n",
      "\n",
      "Labels for k=4:\n",
      "(array([[1],\n",
      "       [1],\n",
      "       [1],\n",
      "       ...,\n",
      "       [0],\n",
      "       [0],\n",
      "       [1]], dtype=int64), 25, 0.4129598140716553)\n",
      "\n",
      "Labels for k=8:\n",
      "(array([[6],\n",
      "       [6],\n",
      "       [6],\n",
      "       ...,\n",
      "       [2],\n",
      "       [7],\n",
      "       [7]], dtype=int64), 69, 1.7273194789886475)\n",
      "\n",
      "Labels for k=16:\n",
      "(array([[11],\n",
      "       [11],\n",
      "       [11],\n",
      "       ...,\n",
      "       [ 7],\n",
      "       [ 7],\n",
      "       [15]], dtype=int64), 126, 6.275233745574951)\n",
      "\n",
      "Labels for k=32:\n",
      "(array([[27],\n",
      "       [27],\n",
      "       [27],\n",
      "       ...,\n",
      "       [19],\n",
      "       [15],\n",
      "       [24]], dtype=int64), 211, 20.32509970664978)\n",
      "\n"
     ]
    }
   ],
   "source": [
    "\n",
    "# Loop through different values of k\n",
    "k_values = [2, 4, 8, 16, 32]\n",
    "\n",
    "# store results in dict\n",
    "results = {}\n",
    "\n",
    "for k in k_values:\n",
    "    start_time = time.time()\n",
    "    labels = k_means(pixels_2d_coastalabstract, k)\n",
    "\n",
    "    elapsed_time = time.time() - start_time\n",
    "    results[k] = { \n",
    "        \"labels\": labels,\n",
    "        \"elapsed_time\": elapsed_time\n",
    "    }\n",
    "    print(f\"Labels for k={k}:\\n{labels}\\n\") "
   ]
  },
  {
   "cell_type": "code",
   "execution_count": 11,
   "id": "e1a51e5d-c730-4d3f-8175-38728a6523b6",
   "metadata": {},
   "outputs": [],
   "source": [
    "# determine optimal k using elbow method\n",
    "#define function to calculate within-cluster sum of squares\n",
    "def k_means_inertia(pixels, k, max_iters=100):\n",
    "    centroids = initialize_centroids(pixels, k)\n",
    "    \n",
    "    for _ in range(max_iters):\n",
    "        labels = assign_clusters(pixels, centroids)\n",
    "        new_centroids = update_centroids(pixels, labels, k)\n",
    "        \n",
    "        if np.all(centroids == new_centroids):\n",
    "            break\n",
    "        \n",
    "        centroids = new_centroids\n",
    "    # within-cluster sum of squares\n",
    "    inertia = np.sum(np.min(np.sum((pixels[:, np.newaxis] - centroids) ** 2, axis=2), axis=1))\n",
    "    return inertia\n",
    "\n",
    "\n"
   ]
  },
  {
   "cell_type": "code",
   "execution_count": 12,
   "id": "1905737f-b2ff-42c1-9d22-f45680ec9ccb",
   "metadata": {},
   "outputs": [
    {
     "data": {
      "image/png": "[encoded data removed]",
      "text/plain": [
       "<Figure size 640x480 with 1 Axes>"
      ]
     },
     "metadata": {},
     "output_type": "display_data"
    }
   ],
   "source": [
    "\n",
    "# Range of k values to try\n",
    "k_values = [2, 4, 8, 16, 32]\n",
    "inertias = []\n",
    "\n",
    "for k in k_values:\n",
    "    inertia = k_means_inertia(pixels_2d_coastalabstract, k)\n",
    "    inertias.append(inertia)\n",
    "\n",
    "# Plotting the Elbow\n",
    "plt.plot(k_values, inertias, 'bx-')\n",
    "plt.xlabel('Number of clusters (k)')\n",
    "plt.ylabel('Inertia')\n",
    "plt.title('Elbow Method For Optimal k')\n",
    "plt.show()"
   ]
  },
  {
   "cell_type": "code",
   "execution_count": 13,
   "id": "3de94b93-64c3-48be-8989-e3233c362d96",
   "metadata": {},
   "outputs": [],
   "source": [
    "# How to handle empty clusters when k is too large?"
   ]
  },
  {
   "cell_type": "code",
   "execution_count": 14,
   "id": "945c82a9-fef7-4489-ada2-74e503b285a7",
   "metadata": {},
   "outputs": [
    {
     "name": "stderr",
     "output_type": "stream",
     "text": [
      "C:\\Users\\mughees.khan\\AppData\\Local\\Temp\\ipykernel_22236\\2205514472.py:2: DeprecationWarning: Starting with ImageIO v3 the behavior of this function will switch to that of iio.v3.imread. To keep the current behavior (and make this warning disappear) use `import imageio.v2 as imageio` or call `imageio.v2.imread` directly.\n",
      "  img_football = iio.imread(\"football.bmp\")\n"
     ]
    },
    {
     "name": "stdout",
     "output_type": "stream",
     "text": [
      "Labels for k=2:\n",
      "(array([[0],\n",
      "       [0],\n",
      "       [0],\n",
      "       ...,\n",
      "       [0],\n",
      "       [0],\n",
      "       [0]], dtype=int64), 23, 0.6885251998901367)\n",
      "\n",
      "Labels for k=4:\n",
      "(array([[3],\n",
      "       [3],\n",
      "       [3],\n",
      "       ...,\n",
      "       [0],\n",
      "       [0],\n",
      "       [0]], dtype=int64), 46, 2.4638514518737793)\n",
      "\n",
      "Labels for k=8:\n",
      "(array([[0],\n",
      "       [0],\n",
      "       [0],\n",
      "       ...,\n",
      "       [5],\n",
      "       [5],\n",
      "       [5]], dtype=int64), 52, 4.736349582672119)\n",
      "\n",
      "Labels for k=16:\n",
      "(array([[15],\n",
      "       [15],\n",
      "       [15],\n",
      "       ...,\n",
      "       [ 1],\n",
      "       [ 1],\n",
      "       [ 5]], dtype=int64), 274, 48.88405513763428)\n",
      "\n",
      "Labels for k=32:\n",
      "(array([[26],\n",
      "       [26],\n",
      "       [26],\n",
      "       ...,\n",
      "       [ 1],\n",
      "       [30],\n",
      "       [30]], dtype=int64), 142, 44.12876319885254)\n",
      "\n"
     ]
    }
   ],
   "source": [
    "#### read football image \n",
    "img_football = iio.imread(\"football.bmp\") \n",
    " \n",
    "# Convert to 2D array (flattened)\n",
    "pixels_2d_football = img_football.reshape(-1, 3)\n",
    "# Loop through different values of k\n",
    "k_values = [2, 4, 8, 16, 32]\n",
    "\n",
    "# store results in dict\n",
    "results = {}\n",
    "\n",
    "\n",
    "# store results in dict\n",
    "results = {}\n",
    "\n",
    "for k in k_values:\n",
    "    start_time = time.time()\n",
    "    labels = k_means(pixels_2d_football, k)\n",
    "\n",
    "    elapsed_time = time.time() - start_time\n",
    "    results[k] = { \n",
    "        \"labels\": labels,\n",
    "        \"elapsed_time\": elapsed_time\n",
    "    }\n",
    "    print(f\"Labels for k={k}:\\n{labels}\\n\") \n",
    "\n"
   ]
  },
  {
   "cell_type": "code",
   "execution_count": 15,
   "id": "cff9420c-b31b-42f3-89d8-d33a84be2dd2",
   "metadata": {},
   "outputs": [
    {
     "data": {
      "image/png": "[encoded data removed]",
      "text/plain": [
       "<Figure size 640x480 with 1 Axes>"
      ]
     },
     "metadata": {},
     "output_type": "display_data"
    }
   ],
   "source": [
    "\n",
    "# Range of k values to try\n",
    "k_values = [2, 4, 8, 16, 32]\n",
    "inertias = []\n",
    "\n",
    "for k in k_values:\n",
    "    inertia = k_means_inertia(pixels_2d_football, k)\n",
    "    inertias.append(inertia)\n",
    "\n",
    "# Plotting the Elbow\n",
    "plt.plot(k_values, inertias, 'bx-')\n",
    "plt.xlabel('Number of clusters (k)')\n",
    "plt.ylabel('Inertia')\n",
    "plt.title('Elbow Method For Optimal k')\n",
    "plt.show()"
   ]
  },
  {
   "cell_type": "code",
   "execution_count": 16,
   "id": "37cc8a72-c0a7-4448-ae97-39984e5ca077",
   "metadata": {},
   "outputs": [
    {
     "name": "stderr",
     "output_type": "stream",
     "text": [
      "C:\\Users\\mughees.khan\\AppData\\Local\\Temp\\ipykernel_22236\\3216340287.py:2: DeprecationWarning: Starting with ImageIO v3 the behavior of this function will switch to that of iio.v3.imread. To keep the current behavior (and make this warning disappear) use `import imageio.v2 as imageio` or call `imageio.v2.imread` directly.\n",
      "  img_cat = iio.imread(\"cat.jpg\")\n"
     ]
    },
    {
     "name": "stdout",
     "output_type": "stream",
     "text": [
      "Labels for k=2:\n",
      "(array([[1],\n",
      "       [1],\n",
      "       [1],\n",
      "       ...,\n",
      "       [0],\n",
      "       [0],\n",
      "       [0]], dtype=int64), 9, 0.0668327808380127)\n",
      "\n",
      "Labels for k=4:\n",
      "(array([[0],\n",
      "       [0],\n",
      "       [0],\n",
      "       ...,\n",
      "       [2],\n",
      "       [2],\n",
      "       [2]], dtype=int64), 26, 0.2673680782318115)\n",
      "\n",
      "Labels for k=8:\n",
      "(array([[0],\n",
      "       [0],\n",
      "       [0],\n",
      "       ...,\n",
      "       [4],\n",
      "       [4],\n",
      "       [4]], dtype=int64), 109, 1.7632086277008057)\n",
      "\n",
      "Labels for k=16:\n",
      "(array([[10],\n",
      "       [10],\n",
      "       [10],\n",
      "       ...,\n",
      "       [ 2],\n",
      "       [ 2],\n",
      "       [ 2]], dtype=int64), 70, 2.0969462394714355)\n",
      "\n",
      "Labels for k=32:\n",
      "(array([[ 5],\n",
      "       [ 5],\n",
      "       [ 5],\n",
      "       ...,\n",
      "       [20],\n",
      "       [20],\n",
      "       [20]], dtype=int64), 179, 10.1263108253479)\n",
      "\n"
     ]
    }
   ],
   "source": [
    "\n",
    "#### read third image \n",
    "img_cat = iio.imread(\"cat.jpg\") \n",
    " \n",
    "# Convert to 2D array (flattened)\n",
    "pixels_2d_cat = img_cat.reshape(-1, 3)\n",
    "# Loop through different values of k\n",
    "k_values = [2, 4, 8, 16, 32]\n",
    "\n",
    "# store results in dict\n",
    "results = {}\n",
    "\n",
    "\n",
    "# store results in dict\n",
    "results = {}\n",
    "\n",
    "for k in k_values:\n",
    "    start_time = time.time()\n",
    "    labels = k_means(pixels_2d_cat, k)\n",
    "\n",
    "    elapsed_time = time.time() - start_time\n",
    "    results[k] = { \n",
    "        \"labels\": labels,\n",
    "        \"elapsed_time\": elapsed_time\n",
    "    }\n",
    "    print(f\"Labels for k={k}:\\n{labels}\\n\") \n",
    "\n",
    "\n"
   ]
  },
  {
   "cell_type": "code",
   "execution_count": 17,
   "id": "3b8bfe76-95eb-424a-a739-5d15dba0da73",
   "metadata": {},
   "outputs": [
    {
     "data": {
      "image/png": "[encoded data removed]",
      "text/plain": [
       "<Figure size 640x480 with 1 Axes>"
      ]
     },
     "metadata": {},
     "output_type": "display_data"
    }
   ],
   "source": [
    "\n",
    "# Range of k values to try\n",
    "k_values = [2, 4, 8, 16, 32]\n",
    "inertias = []\n",
    "\n",
    "for k in k_values:\n",
    "    inertia = k_means_inertia(pixels_2d_cat, k)\n",
    "    inertias.append(inertia)\n",
    "\n",
    "# Plotting the Elbow\n",
    "plt.plot(k_values, inertias, 'bx-')\n",
    "plt.xlabel('Number of clusters (k)')\n",
    "plt.ylabel('Inertia')\n",
    "plt.title('Elbow Method For Optimal k')\n",
    "plt.show()"
   ]
  },
  {
   "cell_type": "code",
   "execution_count": 18,
   "id": "46828e22-cc27-4a44-975c-daac21bb7ace",
   "metadata": {},
   "outputs": [],
   "source": [
    "### MNIST Dataset clustering"
   ]
  },
  {
   "cell_type": "code",
   "execution_count": 19,
   "id": "cfc529d4-b6e8-4019-af47-20cb95bc4bfc",
   "metadata": {},
   "outputs": [],
   "source": [
    "### Import file\n",
    "import scipy.io as sp\n",
    "mnist = sp.loadmat(\"mnist_10digits.mat\")"
   ]
  },
  {
   "cell_type": "code",
   "execution_count": 20,
   "id": "698847c1-c02e-436b-8d29-ef02e2bbfcad",
   "metadata": {},
   "outputs": [
    {
     "name": "stdout",
     "output_type": "stream",
     "text": [
      "dict_keys(['__header__', '__version__', '__globals__', 'xtrain', 'ytrain', 'xtest', 'ytest'])\n"
     ]
    }
   ],
   "source": [
    "print(mnist.keys())"
   ]
  },
  {
   "cell_type": "code",
   "execution_count": 21,
   "id": "b25f620b-42f8-4a8d-9010-945b4f0c897c",
   "metadata": {},
   "outputs": [
    {
     "data": {
      "text/plain": [
       "{'__header__': b'MATLAB 5.0 MAT-file Platform: posix, Created on: Tue Oct 13 20:00:03 2020',\n",
       " '__version__': '1.0',\n",
       " '__globals__': [],\n",
       " 'xtrain': array([[0, 0, 0, ..., 0, 0, 0],\n",
       "        [0, 0, 0, ..., 0, 0, 0],\n",
       "        [0, 0, 0, ..., 0, 0, 0],\n",
       "        ...,\n",
       "        [0, 0, 0, ..., 0, 0, 0],\n",
       "        [0, 0, 0, ..., 0, 0, 0],\n",
       "        [0, 0, 0, ..., 0, 0, 0]], dtype=uint8),\n",
       " 'ytrain': array([[5, 0, 4, ..., 5, 6, 8]], dtype=int64),\n",
       " 'xtest': array([[0, 0, 0, ..., 0, 0, 0],\n",
       "        [0, 0, 0, ..., 0, 0, 0],\n",
       "        [0, 0, 0, ..., 0, 0, 0],\n",
       "        ...,\n",
       "        [0, 0, 0, ..., 0, 0, 0],\n",
       "        [0, 0, 0, ..., 0, 0, 0],\n",
       "        [0, 0, 0, ..., 0, 0, 0]], dtype=uint8),\n",
       " 'ytest': array([[7, 2, 1, ..., 4, 5, 6]], dtype=int64)}"
      ]
     },
     "execution_count": 21,
     "metadata": {},
     "output_type": "execute_result"
    }
   ],
   "source": [
    "mnist"
   ]
  },
  {
   "cell_type": "code",
   "execution_count": 22,
   "id": "a8ae9b5e-ec58-41ce-925c-48b10d846fe2",
   "metadata": {},
   "outputs": [],
   "source": [
    "# Standardize features - map the range of features from 0, 255 to 0 to 1\n",
    "\n",
    "# Assuming 'data' is your dictionary containing the MNIST data\n",
    "\n",
    "xtrain = mnist['xtrain'].astype(np.float32)\n",
    "xtest = mnist['xtest'].astype(np.float32)\n",
    "\n",
    "mean = np.mean(xtrain)\n",
    "std = np.std(xtrain)\n",
    "\n",
    "xtrain_standardized = (xtrain - mean) / std\n",
    "xtest_standardized = (xtest - mean) / std\n",
    "\n",
    "# Replace the original data with standardized data\n",
    "mnist['xtrain'] = xtrain_standardized\n",
    "mnist['xtest'] = xtest_standardized"
   ]
  },
  {
   "cell_type": "code",
   "execution_count": 23,
   "id": "102d9ad0-0413-4e3b-be49-4d79ecb954a0",
   "metadata": {},
   "outputs": [
    {
     "name": "stdout",
     "output_type": "stream",
     "text": [
      "(array([[2],\n",
      "       [6],\n",
      "       [3],\n",
      "       ...,\n",
      "       [2],\n",
      "       [1],\n",
      "       [7]], dtype=int64), 163, 230.54409432411194)\n"
     ]
    }
   ],
   "source": [
    "#mnist['xtrain']\n",
    "#implement k - means with k of 10\n",
    "labels = k_means(mnist['xtrain'], 10)\n",
    "print(labels)"
   ]
  },
  {
   "cell_type": "code",
   "execution_count": 24,
   "id": "742f596f-57ac-4416-88d6-ac9e94616515",
   "metadata": {},
   "outputs": [],
   "source": [
    "# Extract xtest from the dataset and flatten it\n",
    "y_true = mnist['xtest'].flatten()\n"
   ]
  },
  {
   "cell_type": "code",
   "execution_count": 25,
   "id": "1a105f10-7788-4587-a057-bbf39837db6b",
   "metadata": {},
   "outputs": [],
   "source": [
    "# Unpack labels\n",
    "if isinstance(labels, tuple):\n",
    "    labels = labels[0]\n",
    "labels = labels.flatten()"
   ]
  },
  {
   "cell_type": "code",
   "execution_count": 26,
   "id": "db3c45be-19b8-4ce3-a9f1-9a186f4287db",
   "metadata": {},
   "outputs": [],
   "source": [
    "# Function to calculate purity score for each cluster\n",
    "\n",
    "\n",
    "def purity_score_per_cluster(y_true, y_pred):\n",
    "    y_true = y_true.flatten()  # Ensure y_true is 1D\n",
    "    cluster_purity = {}\n",
    "    unique_clusters = np.unique(y_pred)\n",
    "\n",
    "    for cluster in unique_clusters:\n",
    "        indices = np.where(y_pred == cluster)[0]\n",
    "        true_labels_in_cluster = y_true[indices]\n",
    "        \n",
    "        if len(true_labels_in_cluster) > 0:\n",
    "            most_common_label_count = Counter(true_labels_in_cluster).most_common(1)[0][1]\n",
    "            purity = most_common_label_count / len(true_labels_in_cluster)\n",
    "        else:\n",
    "            purity = 0\n",
    "\n",
    "        cluster_purity[cluster] = purity\n",
    "\n",
    "    return cluster_purity"
   ]
  },
  {
   "cell_type": "code",
   "execution_count": 27,
   "id": "83d425c6-c879-469b-b6f7-395c3e5478d0",
   "metadata": {},
   "outputs": [
    {
     "name": "stdout",
     "output_type": "stream",
     "text": [
      "Cluster 0: Purity score = 0.8271\n",
      "Cluster 1: Purity score = 0.8184\n",
      "Cluster 2: Purity score = 0.8211\n",
      "Cluster 3: Purity score = 0.8272\n",
      "Cluster 4: Purity score = 0.8230\n",
      "Cluster 5: Purity score = 0.8248\n",
      "Cluster 6: Purity score = 0.8252\n",
      "Cluster 7: Purity score = 0.8264\n",
      "Cluster 8: Purity score = 0.8238\n",
      "Cluster 9: Purity score = 0.8213\n"
     ]
    }
   ],
   "source": [
    "# Calculate purity per cluster\n",
    "cluster_purity_scores = purity_score_per_cluster(y_true, labels)\n",
    "\n",
    "# Print the purity score for each cluster\n",
    "for cluster, purity in cluster_purity_scores.items():\n",
    "    print(f'Cluster {cluster}: Purity score = {purity:.4f}')"
   ]
  },
  {
   "cell_type": "code",
   "execution_count": 28,
   "id": "41fb3947-2f88-4b53-9c22-a1bde2eb6118",
   "metadata": {},
   "outputs": [],
   "source": [
    "# Try k-means with Manhattan distance - l1 norm.\n",
    "# Create k-means with Manhattan distance function.\n",
    "def initialize_centroids(pixels, k):\n",
    "    \"\"\"Randomly initializes k centroids from the dataset.\"\"\"\n",
    "    np.random.seed(123)  \n",
    "    indices = np.random.choice(pixels.shape[0], k, replace=False)\n",
    "    return pixels[indices]\n",
    "    \n",
    "def assign_clusters(pixels, centroids):\n",
    "    \"\"\"Assigns each pixel to the nearest centroid using L1 norm (Manhattan distance).\"\"\"\n",
    "    distances = np.sum(np.abs(pixels[:, np.newaxis] - centroids), axis=2)\n",
    "    return np.argmin(distances, axis=1)\n",
    "\n",
    "def update_centroids(pixels, labels, k):\n",
    "    \"\"\"Updates the centroids as the median of the assigned points for L1 norm.\"\"\"\n",
    "    new_centroids = np.array([np.median(pixels[labels == i], axis=0) for i in range(k)])\n",
    "    return new_centroids\n",
    "\n",
    "def k_means(pixels, k, max_iters=1000):\n",
    "    \"\"\"Performs k-means clustering and returns labels, number of iterations, and time taken.\"\"\"\n",
    "    centroids = initialize_centroids(pixels, k)\n",
    "    start_time = time.time()\n",
    "    \n",
    "    for i in range(max_iters):\n",
    "        labels = assign_clusters(pixels, centroids)\n",
    "        new_centroids = update_centroids(pixels, labels, k)\n",
    "        \n",
    "        if np.all(centroids == new_centroids):\n",
    "            break\n",
    "        \n",
    "        centroids = new_centroids\n",
    "    \n",
    "    elapsed_time = time.time() - start_time\n",
    "    return labels.reshape(-1, 1), i + 1, elapsed_time\n",
    "\n"
   ]
  },
  {
   "cell_type": "code",
   "execution_count": 29,
   "id": "46b07ba4-9fc8-409a-910b-e094b39f7e94",
   "metadata": {},
   "outputs": [
    {
     "name": "stdout",
     "output_type": "stream",
     "text": [
      "(array([[9],\n",
      "       [6],\n",
      "       [3],\n",
      "       ...,\n",
      "       [7],\n",
      "       [7],\n",
      "       [8]], dtype=int64), 129, 241.5242989063263)\n"
     ]
    }
   ],
   "source": [
    "#mnist['xtrain']\n",
    "#implement k -means with k of 10 using Manhattan distance\n",
    "labels = k_means(mnist['xtrain'], 10)\n",
    "print(labels)"
   ]
  },
  {
   "cell_type": "code",
   "execution_count": 30,
   "id": "99f2c30c-b319-413f-b872-5116fff06113",
   "metadata": {},
   "outputs": [],
   "source": [
    "# Unpack labels\n",
    "if isinstance(labels, tuple):\n",
    "    labels = labels[0]\n",
    "labels = labels.flatten()"
   ]
  },
  {
   "cell_type": "code",
   "execution_count": 31,
   "id": "0ff90e52-d8b9-48e1-b888-5cb498f606ba",
   "metadata": {},
   "outputs": [
    {
     "name": "stdout",
     "output_type": "stream",
     "text": [
      "Cluster 0: Purity score = 0.8266\n",
      "Cluster 1: Purity score = 0.8211\n",
      "Cluster 2: Purity score = 0.8203\n",
      "Cluster 3: Purity score = 0.8260\n",
      "Cluster 4: Purity score = 0.8187\n",
      "Cluster 5: Purity score = 0.8211\n",
      "Cluster 6: Purity score = 0.8293\n",
      "Cluster 7: Purity score = 0.8245\n",
      "Cluster 8: Purity score = 0.8240\n",
      "Cluster 9: Purity score = 0.8238\n"
     ]
    }
   ],
   "source": [
    "# Calculate purity per cluster for Manhattan distance\n",
    "cluster_purity_scores = purity_score_per_cluster(y_true, labels)\n",
    "\n",
    "# Print the purity score for each cluster\n",
    "for cluster, purity in cluster_purity_scores.items():\n",
    "    print(f'Cluster {cluster}: Purity score = {purity:.4f}')"
   ]
  }
 ],
 "metadata": {
  "kernelspec": {
   "display_name": "Python 3 (ipykernel)",
   "language": "python",
   "name": "python3"
  },
  "language_info": {
   "codemirror_mode": {
    "name": "ipython",
    "version": 3
   },
   "file_extension": ".py",
   "mimetype": "text/x-python",
   "name": "python",
   "nbconvert_exporter": "python",
   "pygments_lexer": "ipython3",
   "version": "3.12.4"
  }
 },
 "nbformat": 4,
 "nbformat_minor": 5
}
